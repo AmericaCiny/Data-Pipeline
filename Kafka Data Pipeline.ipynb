{
 "cells": [
  {
   "cell_type": "code",
   "execution_count": 1,
   "metadata": {},
   "outputs": [],
   "source": [
    "from kafka import KafkaProducer\n",
    "import requests\n",
    "\n",
    "producer = KafkaProducer(bootstrap_servers='localhost:9092')"
   ]
  },
  {
   "cell_type": "code",
   "execution_count": 2,
   "metadata": {},
   "outputs": [
    {
     "name": "stdout",
     "output_type": "stream",
     "text": [
      "{'quotes': [{'exchange': 'NYQ', 'shortname': 'Alcoa Corporation', 'quoteType': 'EQUITY', 'symbol': 'AA', 'index': 'quotes', 'score': 2068300, 'typeDisp': 'Equity', 'longname': 'Alcoa Corporation', 'exchDisp': 'NYSE', 'sector': 'Basic Materials', 'sectorDisp': 'Basic Materials', 'industry': 'Aluminum', 'industryDisp': 'Aluminum', 'dispSecIndFlag': False, 'isYahooFinance': True}, {'exchange': 'NMS', 'shortname': 'Apple Inc.', 'quoteType': 'EQUITY', 'symbol': 'AAPL', 'index': 'quotes', 'score': 59179, 'typeDisp': 'Equity', 'longname': 'Apple Inc.', 'exchDisp': 'NASDAQ', 'sector': 'Technology', 'sectorDisp': 'Technology', 'industry': 'Consumer Electronics', 'industryDisp': 'Consumer Electronics', 'isYahooFinance': True}, {'exchange': 'NMS', 'shortname': 'American Airlines Group, Inc.', 'quoteType': 'EQUITY', 'symbol': 'AAL', 'index': 'quotes', 'score': 23374, 'typeDisp': 'Equity', 'longname': 'American Airlines Group Inc.', 'exchDisp': 'NASDAQ', 'sector': 'Industrials', 'sectorDisp': 'Industrials', 'industry': 'Airlines', 'industryDisp': 'Airlines', 'isYahooFinance': True}, {'exchange': 'NGM', 'shortname': 'Applied Optoelectronics, Inc.', 'quoteType': 'EQUITY', 'symbol': 'AAOI', 'index': 'quotes', 'score': 20630, 'typeDisp': 'Equity', 'longname': 'Applied Optoelectronics, Inc.', 'exchDisp': 'NASDAQ', 'sector': 'Technology', 'sectorDisp': 'Technology', 'industry': 'Communication Equipment', 'industryDisp': 'Communication Equipment', 'isYahooFinance': True}, {'exchange': 'NYQ', 'shortname': 'Advance Auto Parts Inc.', 'quoteType': 'EQUITY', 'symbol': 'AAP', 'index': 'quotes', 'score': 20318, 'typeDisp': 'Equity', 'longname': 'Advance Auto Parts, Inc.', 'exchDisp': 'NYSE', 'sector': 'Consumer Cyclical', 'sectorDisp': 'Consumer Cyclical', 'industry': 'Specialty Retail', 'industryDisp': 'Specialty Retail', 'isYahooFinance': True}, {'exchange': 'LSE', 'shortname': 'ANGLO AMERICAN PLC ORD USD0.549', 'quoteType': 'EQUITY', 'symbol': 'AAL.L', 'index': 'quotes', 'score': 20168, 'typeDisp': 'Equity', 'longname': 'Anglo American plc', 'exchDisp': 'London', 'sector': 'Basic Materials', 'sectorDisp': 'Basic Materials', 'industry': 'Other Industrial Metals & Mining', 'industryDisp': 'Other Industrial Metals & Mining', 'isYahooFinance': True}, {'exchange': 'NMS', 'shortname': 'AAON, Inc.', 'quoteType': 'EQUITY', 'symbol': 'AAON', 'index': 'quotes', 'score': 20154, 'typeDisp': 'Equity', 'longname': 'AAON, Inc.', 'exchDisp': 'NASDAQ', 'sector': 'Industrials', 'sectorDisp': 'Industrials', 'industry': 'Building Products & Equipment', 'industryDisp': 'Building Products & Equipment', 'isYahooFinance': True}]}\n"
     ]
    }
   ],
   "source": [
    "import requests\n",
    "import json\n",
    "\n",
    "\n",
    "url = \"https://yahoo-finance127.p.rapidapi.com/search/aa\"\n",
    "\n",
    "headers = {\n",
    "\t\"X-RapidAPI-Key\": \"36bc873456msh661959b4e3530c4p162a7cjsndd86e16e2663\",\n",
    "\t\"X-RapidAPI-Host\": \"yahoo-finance127.p.rapidapi.com\"\n",
    "}\n",
    "\n",
    "response = requests.get(url, headers=headers)\n",
    "\n",
    "print(response.json())\n",
    "\n",
    "# Serialize the response's JSON data to a string and encode it to bytes\n",
    "serialized_data = json.dumps(response.json()).encode('utf-8')\n",
    "\n",
    "# Send the serialized, encoded data to Kafka\n",
    "producer.send('test', serialized_data)\n",
    "producer.flush()"
   ]
  },
  {
   "cell_type": "code",
   "execution_count": 3,
   "metadata": {},
   "outputs": [
    {
     "name": "stdout",
     "output_type": "stream",
     "text": [
      "Received message: {'quotes': [{'exchange': 'NYQ', 'shortname': 'Alcoa Corporation', 'quoteType': 'EQUITY', 'symbol': 'AA', 'index': 'quotes', 'score': 2068300, 'typeDisp': 'Equity', 'longname': 'Alcoa Corporation', 'exchDisp': 'NYSE', 'sector': 'Basic Materials', 'sectorDisp': 'Basic Materials', 'industry': 'Aluminum', 'industryDisp': 'Aluminum', 'dispSecIndFlag': False, 'isYahooFinance': True}, {'exchange': 'NMS', 'shortname': 'Apple Inc.', 'quoteType': 'EQUITY', 'symbol': 'AAPL', 'index': 'quotes', 'score': 59179, 'typeDisp': 'Equity', 'longname': 'Apple Inc.', 'exchDisp': 'NASDAQ', 'sector': 'Technology', 'sectorDisp': 'Technology', 'industry': 'Consumer Electronics', 'industryDisp': 'Consumer Electronics', 'isYahooFinance': True}, {'exchange': 'NMS', 'shortname': 'American Airlines Group, Inc.', 'quoteType': 'EQUITY', 'symbol': 'AAL', 'index': 'quotes', 'score': 23374, 'typeDisp': 'Equity', 'longname': 'American Airlines Group Inc.', 'exchDisp': 'NASDAQ', 'sector': 'Industrials', 'sectorDisp': 'Industrials', 'industry': 'Airlines', 'industryDisp': 'Airlines', 'isYahooFinance': True}, {'exchange': 'NGM', 'shortname': 'Applied Optoelectronics, Inc.', 'quoteType': 'EQUITY', 'symbol': 'AAOI', 'index': 'quotes', 'score': 20630, 'typeDisp': 'Equity', 'longname': 'Applied Optoelectronics, Inc.', 'exchDisp': 'NASDAQ', 'sector': 'Technology', 'sectorDisp': 'Technology', 'industry': 'Communication Equipment', 'industryDisp': 'Communication Equipment', 'isYahooFinance': True}, {'exchange': 'NYQ', 'shortname': 'Advance Auto Parts Inc.', 'quoteType': 'EQUITY', 'symbol': 'AAP', 'index': 'quotes', 'score': 20318, 'typeDisp': 'Equity', 'longname': 'Advance Auto Parts, Inc.', 'exchDisp': 'NYSE', 'sector': 'Consumer Cyclical', 'sectorDisp': 'Consumer Cyclical', 'industry': 'Specialty Retail', 'industryDisp': 'Specialty Retail', 'isYahooFinance': True}, {'exchange': 'LSE', 'shortname': 'ANGLO AMERICAN PLC ORD USD0.549', 'quoteType': 'EQUITY', 'symbol': 'AAL.L', 'index': 'quotes', 'score': 20168, 'typeDisp': 'Equity', 'longname': 'Anglo American plc', 'exchDisp': 'London', 'sector': 'Basic Materials', 'sectorDisp': 'Basic Materials', 'industry': 'Other Industrial Metals & Mining', 'industryDisp': 'Other Industrial Metals & Mining', 'isYahooFinance': True}, {'exchange': 'NMS', 'shortname': 'AAON, Inc.', 'quoteType': 'EQUITY', 'symbol': 'AAON', 'index': 'quotes', 'score': 20154, 'typeDisp': 'Equity', 'longname': 'AAON, Inc.', 'exchDisp': 'NASDAQ', 'sector': 'Industrials', 'sectorDisp': 'Industrials', 'industry': 'Building Products & Equipment', 'industryDisp': 'Building Products & Equipment', 'isYahooFinance': True}]}\n"
     ]
    },
    {
     "ename": "KeyboardInterrupt",
     "evalue": "",
     "output_type": "error",
     "traceback": [
      "\u001b[0;31m---------------------------------------------------------------------------\u001b[0m",
      "\u001b[0;31mKeyboardInterrupt\u001b[0m                         Traceback (most recent call last)",
      "Cell \u001b[0;32mIn[3], line 13\u001b[0m\n\u001b[1;32m      3\u001b[0m consumer \u001b[38;5;241m=\u001b[39m KafkaConsumer(\n\u001b[1;32m      4\u001b[0m     \u001b[38;5;124m'\u001b[39m\u001b[38;5;124mtest\u001b[39m\u001b[38;5;124m'\u001b[39m,\n\u001b[1;32m      5\u001b[0m     bootstrap_servers\u001b[38;5;241m=\u001b[39m[\u001b[38;5;124m'\u001b[39m\u001b[38;5;124mlocalhost:9092\u001b[39m\u001b[38;5;124m'\u001b[39m],\n\u001b[0;32m   (...)\u001b[0m\n\u001b[1;32m      9\u001b[0m     value_deserializer\u001b[38;5;241m=\u001b[39m\u001b[38;5;28;01mlambda\u001b[39;00m x: json\u001b[38;5;241m.\u001b[39mloads(x\u001b[38;5;241m.\u001b[39mdecode(\u001b[38;5;124m'\u001b[39m\u001b[38;5;124mutf-8\u001b[39m\u001b[38;5;124m'\u001b[39m))  \u001b[38;5;66;03m# Deserialize the data from bytes to JSON\u001b[39;00m\n\u001b[1;32m     10\u001b[0m )\n\u001b[1;32m     12\u001b[0m \u001b[38;5;66;03m# Now, consume data\u001b[39;00m\n\u001b[0;32m---> 13\u001b[0m \u001b[38;5;28;01mfor\u001b[39;00m message \u001b[38;5;129;01min\u001b[39;00m consumer:\n\u001b[1;32m     14\u001b[0m     \u001b[38;5;66;03m# message.value is already deserialized JSON thanks to the value_deserializer\u001b[39;00m\n\u001b[1;32m     15\u001b[0m     \u001b[38;5;28mprint\u001b[39m(\u001b[38;5;124mf\u001b[39m\u001b[38;5;124m\"\u001b[39m\u001b[38;5;124mReceived message: \u001b[39m\u001b[38;5;132;01m{\u001b[39;00mmessage\u001b[38;5;241m.\u001b[39mvalue\u001b[38;5;132;01m}\u001b[39;00m\u001b[38;5;124m\"\u001b[39m)\n\u001b[1;32m     17\u001b[0m \u001b[38;5;66;03m# Remember to close the consumer connection when you're done\u001b[39;00m\n",
      "File \u001b[0;32m~/opt/anaconda3/lib/python3.8/site-packages/kafka/consumer/group.py:1193\u001b[0m, in \u001b[0;36mKafkaConsumer.__next__\u001b[0;34m(self)\u001b[0m\n\u001b[1;32m   1191\u001b[0m     \u001b[38;5;28;01mreturn\u001b[39;00m \u001b[38;5;28mself\u001b[39m\u001b[38;5;241m.\u001b[39mnext_v1()\n\u001b[1;32m   1192\u001b[0m \u001b[38;5;28;01melse\u001b[39;00m:\n\u001b[0;32m-> 1193\u001b[0m     \u001b[38;5;28;01mreturn\u001b[39;00m \u001b[38;5;28;43mself\u001b[39;49m\u001b[38;5;241;43m.\u001b[39;49m\u001b[43mnext_v2\u001b[49m\u001b[43m(\u001b[49m\u001b[43m)\u001b[49m\n",
      "File \u001b[0;32m~/opt/anaconda3/lib/python3.8/site-packages/kafka/consumer/group.py:1201\u001b[0m, in \u001b[0;36mKafkaConsumer.next_v2\u001b[0;34m(self)\u001b[0m\n\u001b[1;32m   1199\u001b[0m     \u001b[38;5;28mself\u001b[39m\u001b[38;5;241m.\u001b[39m_iterator \u001b[38;5;241m=\u001b[39m \u001b[38;5;28mself\u001b[39m\u001b[38;5;241m.\u001b[39m_message_generator_v2()\n\u001b[1;32m   1200\u001b[0m \u001b[38;5;28;01mtry\u001b[39;00m:\n\u001b[0;32m-> 1201\u001b[0m     \u001b[38;5;28;01mreturn\u001b[39;00m \u001b[38;5;28;43mnext\u001b[39;49m\u001b[43m(\u001b[49m\u001b[38;5;28;43mself\u001b[39;49m\u001b[38;5;241;43m.\u001b[39;49m\u001b[43m_iterator\u001b[49m\u001b[43m)\u001b[49m\n\u001b[1;32m   1202\u001b[0m \u001b[38;5;28;01mexcept\u001b[39;00m \u001b[38;5;167;01mStopIteration\u001b[39;00m:\n\u001b[1;32m   1203\u001b[0m     \u001b[38;5;28mself\u001b[39m\u001b[38;5;241m.\u001b[39m_iterator \u001b[38;5;241m=\u001b[39m \u001b[38;5;28;01mNone\u001b[39;00m\n",
      "File \u001b[0;32m~/opt/anaconda3/lib/python3.8/site-packages/kafka/consumer/group.py:1116\u001b[0m, in \u001b[0;36mKafkaConsumer._message_generator_v2\u001b[0;34m(self)\u001b[0m\n\u001b[1;32m   1114\u001b[0m \u001b[38;5;28;01mdef\u001b[39;00m \u001b[38;5;21m_message_generator_v2\u001b[39m(\u001b[38;5;28mself\u001b[39m):\n\u001b[1;32m   1115\u001b[0m     timeout_ms \u001b[38;5;241m=\u001b[39m \u001b[38;5;241m1000\u001b[39m \u001b[38;5;241m*\u001b[39m (\u001b[38;5;28mself\u001b[39m\u001b[38;5;241m.\u001b[39m_consumer_timeout \u001b[38;5;241m-\u001b[39m time\u001b[38;5;241m.\u001b[39mtime())\n\u001b[0;32m-> 1116\u001b[0m     record_map \u001b[38;5;241m=\u001b[39m \u001b[38;5;28;43mself\u001b[39;49m\u001b[38;5;241;43m.\u001b[39;49m\u001b[43mpoll\u001b[49m\u001b[43m(\u001b[49m\u001b[43mtimeout_ms\u001b[49m\u001b[38;5;241;43m=\u001b[39;49m\u001b[43mtimeout_ms\u001b[49m\u001b[43m,\u001b[49m\u001b[43m \u001b[49m\u001b[43mupdate_offsets\u001b[49m\u001b[38;5;241;43m=\u001b[39;49m\u001b[38;5;28;43;01mFalse\u001b[39;49;00m\u001b[43m)\u001b[49m\n\u001b[1;32m   1117\u001b[0m     \u001b[38;5;28;01mfor\u001b[39;00m tp, records \u001b[38;5;129;01min\u001b[39;00m six\u001b[38;5;241m.\u001b[39miteritems(record_map):\n\u001b[1;32m   1118\u001b[0m         \u001b[38;5;66;03m# Generators are stateful, and it is possible that the tp / records\u001b[39;00m\n\u001b[1;32m   1119\u001b[0m         \u001b[38;5;66;03m# here may become stale during iteration -- i.e., we seek to a\u001b[39;00m\n\u001b[1;32m   1120\u001b[0m         \u001b[38;5;66;03m# different offset, pause consumption, or lose assignment.\u001b[39;00m\n\u001b[1;32m   1121\u001b[0m         \u001b[38;5;28;01mfor\u001b[39;00m record \u001b[38;5;129;01min\u001b[39;00m records:\n\u001b[1;32m   1122\u001b[0m             \u001b[38;5;66;03m# is_fetchable(tp) should handle assignment changes and offset\u001b[39;00m\n\u001b[1;32m   1123\u001b[0m             \u001b[38;5;66;03m# resets; for all other changes (e.g., seeks) we'll rely on the\u001b[39;00m\n\u001b[1;32m   1124\u001b[0m             \u001b[38;5;66;03m# outer function destroying the existing iterator/generator\u001b[39;00m\n\u001b[1;32m   1125\u001b[0m             \u001b[38;5;66;03m# via self._iterator = None\u001b[39;00m\n",
      "File \u001b[0;32m~/opt/anaconda3/lib/python3.8/site-packages/kafka/consumer/group.py:655\u001b[0m, in \u001b[0;36mKafkaConsumer.poll\u001b[0;34m(self, timeout_ms, max_records, update_offsets)\u001b[0m\n\u001b[1;32m    653\u001b[0m remaining \u001b[38;5;241m=\u001b[39m timeout_ms\n\u001b[1;32m    654\u001b[0m \u001b[38;5;28;01mwhile\u001b[39;00m \u001b[38;5;28;01mTrue\u001b[39;00m:\n\u001b[0;32m--> 655\u001b[0m     records \u001b[38;5;241m=\u001b[39m \u001b[38;5;28;43mself\u001b[39;49m\u001b[38;5;241;43m.\u001b[39;49m\u001b[43m_poll_once\u001b[49m\u001b[43m(\u001b[49m\u001b[43mremaining\u001b[49m\u001b[43m,\u001b[49m\u001b[43m \u001b[49m\u001b[43mmax_records\u001b[49m\u001b[43m,\u001b[49m\u001b[43m \u001b[49m\u001b[43mupdate_offsets\u001b[49m\u001b[38;5;241;43m=\u001b[39;49m\u001b[43mupdate_offsets\u001b[49m\u001b[43m)\u001b[49m\n\u001b[1;32m    656\u001b[0m     \u001b[38;5;28;01mif\u001b[39;00m records:\n\u001b[1;32m    657\u001b[0m         \u001b[38;5;28;01mreturn\u001b[39;00m records\n",
      "File \u001b[0;32m~/opt/anaconda3/lib/python3.8/site-packages/kafka/consumer/group.py:702\u001b[0m, in \u001b[0;36mKafkaConsumer._poll_once\u001b[0;34m(self, timeout_ms, max_records, update_offsets)\u001b[0m\n\u001b[1;32m    699\u001b[0m     \u001b[38;5;28mself\u001b[39m\u001b[38;5;241m.\u001b[39m_client\u001b[38;5;241m.\u001b[39mpoll(timeout_ms\u001b[38;5;241m=\u001b[39m\u001b[38;5;241m0\u001b[39m)\n\u001b[1;32m    701\u001b[0m timeout_ms \u001b[38;5;241m=\u001b[39m \u001b[38;5;28mmin\u001b[39m(timeout_ms, \u001b[38;5;28mself\u001b[39m\u001b[38;5;241m.\u001b[39m_coordinator\u001b[38;5;241m.\u001b[39mtime_to_next_poll() \u001b[38;5;241m*\u001b[39m \u001b[38;5;241m1000\u001b[39m)\n\u001b[0;32m--> 702\u001b[0m \u001b[38;5;28;43mself\u001b[39;49m\u001b[38;5;241;43m.\u001b[39;49m\u001b[43m_client\u001b[49m\u001b[38;5;241;43m.\u001b[39;49m\u001b[43mpoll\u001b[49m\u001b[43m(\u001b[49m\u001b[43mtimeout_ms\u001b[49m\u001b[38;5;241;43m=\u001b[39;49m\u001b[43mtimeout_ms\u001b[49m\u001b[43m)\u001b[49m\n\u001b[1;32m    703\u001b[0m \u001b[38;5;66;03m# after the long poll, we should check whether the group needs to rebalance\u001b[39;00m\n\u001b[1;32m    704\u001b[0m \u001b[38;5;66;03m# prior to returning data so that the group can stabilize faster\u001b[39;00m\n\u001b[1;32m    705\u001b[0m \u001b[38;5;28;01mif\u001b[39;00m \u001b[38;5;28mself\u001b[39m\u001b[38;5;241m.\u001b[39m_coordinator\u001b[38;5;241m.\u001b[39mneed_rejoin():\n",
      "File \u001b[0;32m~/opt/anaconda3/lib/python3.8/site-packages/kafka/client_async.py:602\u001b[0m, in \u001b[0;36mKafkaClient.poll\u001b[0;34m(self, timeout_ms, future)\u001b[0m\n\u001b[1;32m    599\u001b[0m             timeout \u001b[38;5;241m=\u001b[39m \u001b[38;5;28mmin\u001b[39m(timeout, \u001b[38;5;28mself\u001b[39m\u001b[38;5;241m.\u001b[39mconfig[\u001b[38;5;124m'\u001b[39m\u001b[38;5;124mretry_backoff_ms\u001b[39m\u001b[38;5;124m'\u001b[39m])\n\u001b[1;32m    600\u001b[0m         timeout \u001b[38;5;241m=\u001b[39m \u001b[38;5;28mmax\u001b[39m(\u001b[38;5;241m0\u001b[39m, timeout)  \u001b[38;5;66;03m# avoid negative timeouts\u001b[39;00m\n\u001b[0;32m--> 602\u001b[0m     \u001b[38;5;28;43mself\u001b[39;49m\u001b[38;5;241;43m.\u001b[39;49m\u001b[43m_poll\u001b[49m\u001b[43m(\u001b[49m\u001b[43mtimeout\u001b[49m\u001b[43m \u001b[49m\u001b[38;5;241;43m/\u001b[39;49m\u001b[43m \u001b[49m\u001b[38;5;241;43m1000\u001b[39;49m\u001b[43m)\u001b[49m\n\u001b[1;32m    604\u001b[0m \u001b[38;5;66;03m# called without the lock to avoid deadlock potential\u001b[39;00m\n\u001b[1;32m    605\u001b[0m \u001b[38;5;66;03m# if handlers need to acquire locks\u001b[39;00m\n\u001b[1;32m    606\u001b[0m responses\u001b[38;5;241m.\u001b[39mextend(\u001b[38;5;28mself\u001b[39m\u001b[38;5;241m.\u001b[39m_fire_pending_completed_requests())\n",
      "File \u001b[0;32m~/opt/anaconda3/lib/python3.8/site-packages/kafka/client_async.py:634\u001b[0m, in \u001b[0;36mKafkaClient._poll\u001b[0;34m(self, timeout)\u001b[0m\n\u001b[1;32m    631\u001b[0m \u001b[38;5;28mself\u001b[39m\u001b[38;5;241m.\u001b[39m_register_send_sockets()\n\u001b[1;32m    633\u001b[0m start_select \u001b[38;5;241m=\u001b[39m time\u001b[38;5;241m.\u001b[39mtime()\n\u001b[0;32m--> 634\u001b[0m ready \u001b[38;5;241m=\u001b[39m \u001b[38;5;28;43mself\u001b[39;49m\u001b[38;5;241;43m.\u001b[39;49m\u001b[43m_selector\u001b[49m\u001b[38;5;241;43m.\u001b[39;49m\u001b[43mselect\u001b[49m\u001b[43m(\u001b[49m\u001b[43mtimeout\u001b[49m\u001b[43m)\u001b[49m\n\u001b[1;32m    635\u001b[0m end_select \u001b[38;5;241m=\u001b[39m time\u001b[38;5;241m.\u001b[39mtime()\n\u001b[1;32m    636\u001b[0m \u001b[38;5;28;01mif\u001b[39;00m \u001b[38;5;28mself\u001b[39m\u001b[38;5;241m.\u001b[39m_sensors:\n",
      "File \u001b[0;32m~/opt/anaconda3/lib/python3.8/selectors.py:558\u001b[0m, in \u001b[0;36mKqueueSelector.select\u001b[0;34m(self, timeout)\u001b[0m\n\u001b[1;32m    556\u001b[0m ready \u001b[38;5;241m=\u001b[39m []\n\u001b[1;32m    557\u001b[0m \u001b[38;5;28;01mtry\u001b[39;00m:\n\u001b[0;32m--> 558\u001b[0m     kev_list \u001b[38;5;241m=\u001b[39m \u001b[38;5;28;43mself\u001b[39;49m\u001b[38;5;241;43m.\u001b[39;49m\u001b[43m_selector\u001b[49m\u001b[38;5;241;43m.\u001b[39;49m\u001b[43mcontrol\u001b[49m\u001b[43m(\u001b[49m\u001b[38;5;28;43;01mNone\u001b[39;49;00m\u001b[43m,\u001b[49m\u001b[43m \u001b[49m\u001b[43mmax_ev\u001b[49m\u001b[43m,\u001b[49m\u001b[43m \u001b[49m\u001b[43mtimeout\u001b[49m\u001b[43m)\u001b[49m\n\u001b[1;32m    559\u001b[0m \u001b[38;5;28;01mexcept\u001b[39;00m \u001b[38;5;167;01mInterruptedError\u001b[39;00m:\n\u001b[1;32m    560\u001b[0m     \u001b[38;5;28;01mreturn\u001b[39;00m ready\n",
      "\u001b[0;31mKeyboardInterrupt\u001b[0m: "
     ]
    }
   ],
   "source": [
    "from kafka import KafkaConsumer\n",
    "# Create a Kafka consumer\n",
    "consumer = KafkaConsumer(\n",
    "    'test',\n",
    "    bootstrap_servers=['localhost:9092'],\n",
    "    auto_offset_reset='earliest',  # Start reading at the earliest message\n",
    "    enable_auto_commit=True,       # Commit offsets automatically\n",
    "    group_id='my-group',           # Consumer group ID\n",
    "    value_deserializer=lambda x: json.loads(x.decode('utf-8'))  # Deserialize the data from bytes to JSON\n",
    ")\n",
    "\n",
    "# Now, consume data\n",
    "for message in consumer:\n",
    "    # message.value is already deserialized JSON thanks to the value_deserializer\n",
    "    print(f\"Received message: {message.value}\")\n",
    "\n",
    "# Remember to close the consumer connection when you're done\n",
    "consumer.close()"
   ]
  }
 ],
 "metadata": {
  "kernelspec": {
   "display_name": "base",
   "language": "python",
   "name": "python3"
  },
  "language_info": {
   "codemirror_mode": {
    "name": "ipython",
    "version": 3
   },
   "file_extension": ".py",
   "mimetype": "text/x-python",
   "name": "python",
   "nbconvert_exporter": "python",
   "pygments_lexer": "ipython3",
   "version": "3.8.18"
  }
 },
 "nbformat": 4,
 "nbformat_minor": 2
}
